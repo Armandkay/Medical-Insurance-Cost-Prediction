{
  "nbformat": 4,
  "nbformat_minor": 0,
  "metadata": {
    "colab": {
      "provenance": [],
      "include_colab_link": true
    },
    "kernelspec": {
      "name": "python3",
      "display_name": "Python 3"
    },
    "language_info": {
      "name": "python"
    }
  },
  "cells": [
    {
      "cell_type": "markdown",
      "metadata": {
        "id": "view-in-github",
        "colab_type": "text"
      },
      "source": [
        "<a href=\"https://colab.research.google.com/github/Armandkay/Medical-Insurance-Cost-Prediction/blob/main/Kayiranga_Armand_Summative.ipynb\" target=\"_parent\"><img src=\"https://colab.research.google.com/assets/colab-badge.svg\" alt=\"Open In Colab\"/></a>"
      ]
    },
    {
      "cell_type": "markdown",
      "source": [
        "**Step 1: Get the dataset and basic exploration**"
      ],
      "metadata": {
        "id": "H5p7P3y8XnAS"
      }
    },
    {
      "cell_type": "code",
      "source": [
        "# Import necessary libraries\n",
        "import pandas as pd\n",
        "import numpy as np\n",
        "import matplotlib.pyplot as plt\n",
        "import seaborn as sns\n",
        "from sklearn.model_selection import train_test_split\n",
        "from sklearn.linear_model import LinearRegression\n",
        "from sklearn.metrics import mean_squared_error, r2_score\n",
        "from sklearn.preprocessing import StandardScaler\n",
        "from sklearn.tree import DecisionTreeRegressor\n",
        "from sklearn.ensemble import RandomForestRegressor\n",
        "import joblib\n",
        "\n",
        "# Load the dataset (medical insurance costs)\n",
        "url = \"https://raw.githubusercontent.com/stedy/Machine-Learning-with-R-datasets/master/insurance.csv\"\n",
        "df = pd.read_csv(url)\n",
        "\n",
        "# Display first few rows\n",
        "print(df.head())\n",
        "\n",
        "# Check for missing values\n",
        "print(\"\\nMissing values:\")\n",
        "print(df.isnull().sum())\n",
        "\n",
        "# Basic statistics\n",
        "print(\"\\nBasic statistics:\")\n",
        "print(df.describe())\n",
        "\n",
        "# Data information\n",
        "print(\"\\nData information:\")\n",
        "print(df.info())"
      ],
      "metadata": {
        "colab": {
          "base_uri": "https://localhost:8080/"
        },
        "id": "zVEbhnAwXrCB",
        "outputId": "bcad6fcb-faba-4321-bf26-6e81acc88934"
      },
      "execution_count": null,
      "outputs": [
        {
          "output_type": "stream",
          "name": "stdout",
          "text": [
            "   age     sex     bmi  children smoker     region      charges\n",
            "0   19  female  27.900         0    yes  southwest  16884.92400\n",
            "1   18    male  33.770         1     no  southeast   1725.55230\n",
            "2   28    male  33.000         3     no  southeast   4449.46200\n",
            "3   33    male  22.705         0     no  northwest  21984.47061\n",
            "4   32    male  28.880         0     no  northwest   3866.85520\n",
            "\n",
            "Missing values:\n",
            "age         0\n",
            "sex         0\n",
            "bmi         0\n",
            "children    0\n",
            "smoker      0\n",
            "region      0\n",
            "charges     0\n",
            "dtype: int64\n",
            "\n",
            "Basic statistics:\n",
            "               age          bmi     children       charges\n",
            "count  1338.000000  1338.000000  1338.000000   1338.000000\n",
            "mean     39.207025    30.663397     1.094918  13270.422265\n",
            "std      14.049960     6.098187     1.205493  12110.011237\n",
            "min      18.000000    15.960000     0.000000   1121.873900\n",
            "25%      27.000000    26.296250     0.000000   4740.287150\n",
            "50%      39.000000    30.400000     1.000000   9382.033000\n",
            "75%      51.000000    34.693750     2.000000  16639.912515\n",
            "max      64.000000    53.130000     5.000000  63770.428010\n",
            "\n",
            "Data information:\n",
            "<class 'pandas.core.frame.DataFrame'>\n",
            "RangeIndex: 1338 entries, 0 to 1337\n",
            "Data columns (total 7 columns):\n",
            " #   Column    Non-Null Count  Dtype  \n",
            "---  ------    --------------  -----  \n",
            " 0   age       1338 non-null   int64  \n",
            " 1   sex       1338 non-null   object \n",
            " 2   bmi       1338 non-null   float64\n",
            " 3   children  1338 non-null   int64  \n",
            " 4   smoker    1338 non-null   object \n",
            " 5   region    1338 non-null   object \n",
            " 6   charges   1338 non-null   float64\n",
            "dtypes: float64(2), int64(2), object(3)\n",
            "memory usage: 73.3+ KB\n",
            "None\n"
          ]
        }
      ]
    },
    {
      "cell_type": "markdown",
      "source": [
        "**Step 2: Data preprocessing**"
      ],
      "metadata": {
        "id": "a0dx1OasX4j8"
      }
    },
    {
      "cell_type": "code",
      "source": [
        "# Convert categorical variables to numeric\n",
        "df_encoded = pd.get_dummies(df, columns=['sex', 'smoker', 'region'], drop_first=True)\n",
        "\n",
        "# Features and target\n",
        "X = df_encoded.drop('charges', axis=1)\n",
        "y = df_encoded['charges']\n",
        "\n",
        "# Split the data into training and testing sets\n",
        "X_train, X_test, y_train, y_test = train_test_split(X, y, test_size=0.2, random_state=42)\n",
        "\n",
        "# Scale the features\n",
        "scaler = StandardScaler()\n",
        "X_train_scaled = scaler.fit_transform(X_train)\n",
        "X_test_scaled = scaler.transform(X_test)"
      ],
      "metadata": {
        "id": "A2-JznhzX8yL"
      },
      "execution_count": null,
      "outputs": []
    },
    {
      "cell_type": "markdown",
      "source": [
        "**Step 3: Implement and train the linear regression model**"
      ],
      "metadata": {
        "id": "Un3V8xshYEQK"
      }
    },
    {
      "cell_type": "code",
      "source": [
        "# Initialize and train the model\n",
        "lr_model = LinearRegression()\n",
        "lr_model.fit(X_train_scaled, y_train)\n",
        "\n",
        "# Make predictions\n",
        "y_train_pred = lr_model.predict(X_train_scaled)\n",
        "y_test_pred = lr_model.predict(X_test_scaled)\n",
        "\n",
        "# Calculate metrics\n",
        "train_mse = mean_squared_error(y_train, y_train_pred)\n",
        "test_mse = mean_squared_error(y_test, y_test_pred)\n",
        "train_r2 = r2_score(y_train, y_train_pred)\n",
        "test_r2 = r2_score(y_test, y_test_pred)\n",
        "\n",
        "print(f\"Linear Regression Train MSE: {train_mse:.2f}\")\n",
        "print(f\"Linear Regression Test MSE: {test_mse:.2f}\")\n",
        "print(f\"Linear Regression Train R²: {train_r2:.2f}\")\n",
        "print(f\"Linear Regression Test R²: {test_r2:.2f}\")"
      ],
      "metadata": {
        "colab": {
          "base_uri": "https://localhost:8080/"
        },
        "id": "kC5NNDjPYJgB",
        "outputId": "ef8cd52c-d745-440e-e599-298590235006"
      },
      "execution_count": null,
      "outputs": [
        {
          "output_type": "stream",
          "name": "stdout",
          "text": [
            "Linear Regression Train MSE: 37277681.70\n",
            "Linear Regression Test MSE: 33596915.85\n",
            "Linear Regression Train R²: 0.74\n",
            "Linear Regression Test R²: 0.78\n"
          ]
        }
      ]
    },
    {
      "cell_type": "markdown",
      "source": [
        "**Step 4: Implement gradient descent for linear regression**"
      ],
      "metadata": {
        "id": "pOnzTnUlYQ4L"
      }
    },
    {
      "cell_type": "code",
      "source": [
        "# Implement gradient descent from scratch\n",
        "def gradient_descent(X, y, learning_rate=0.01, iterations=1000):\n",
        "    m = X.shape[0]\n",
        "    n = X.shape[1]\n",
        "    theta = np.zeros(n)\n",
        "    cost_history = []\n",
        "\n",
        "    for i in range(iterations):\n",
        "        # Calculate predictions\n",
        "        y_pred = np.dot(X, theta)\n",
        "\n",
        "        # Calculate error\n",
        "        error = y_pred - y\n",
        "\n",
        "        # Calculate gradients\n",
        "        gradients = (1/m) * np.dot(X.T, error)\n",
        "\n",
        "        # Update parameters\n",
        "        theta = theta - learning_rate * gradients\n",
        "\n",
        "        # Calculate cost\n",
        "        cost = (1/(2*m)) * np.sum(error**2)\n",
        "        cost_history.append(cost)\n",
        "\n",
        "        # Print progress every 100 iterations\n",
        "        if i % 100 == 0:\n",
        "            print(f\"Iteration {i}: Cost = {cost:.4f}\")\n",
        "\n",
        "    return theta, cost_history\n",
        "\n",
        "# Convert to numpy arrays for gradient descent\n",
        "X_train_gd = np.column_stack((np.ones(X_train_scaled.shape[0]), X_train_scaled))\n",
        "X_test_gd = np.column_stack((np.ones(X_test_scaled.shape[0]), X_test_scaled))\n",
        "\n",
        "# Run gradient descent\n",
        "theta, cost_history = gradient_descent(X_train_gd, y_train, learning_rate=0.01, iterations=1000)\n",
        "\n",
        "# Make predictions using the learned parameters\n",
        "y_train_pred_gd = np.dot(X_train_gd, theta)\n",
        "y_test_pred_gd = np.dot(X_test_gd, theta)\n",
        "\n",
        "# Calculate metrics\n",
        "train_mse_gd = mean_squared_error(y_train, y_train_pred_gd)\n",
        "test_mse_gd = mean_squared_error(y_test, y_test_pred_gd)\n",
        "train_r2_gd = r2_score(y_train, y_train_pred_gd)\n",
        "test_r2_gd = r2_score(y_test, y_test_pred_gd)\n",
        "\n",
        "print(f\"Gradient Descent Train MSE: {train_mse_gd:.2f}\")\n",
        "print(f\"Gradient Descent Test MSE: {test_mse_gd:.2f}\")\n",
        "print(f\"Gradient Descent Train R²: {train_r2_gd:.2f}\")\n",
        "print(f\"Gradient Descent Test R²: {test_r2_gd:.2f}\")\n",
        "\n",
        "# Plot the cost history\n",
        "plt.figure(figsize=(10, 6))\n",
        "plt.plot(cost_history)\n",
        "plt.title('Cost vs Iterations')\n",
        "plt.xlabel('Iterations')\n",
        "plt.ylabel('Cost')\n",
        "plt.grid(True)\n",
        "plt.show()"
      ],
      "metadata": {
        "colab": {
          "base_uri": "https://localhost:8080/",
          "height": 807
        },
        "id": "t5Mg4sa-YWhq",
        "outputId": "68e1e752-3dc2-4610-803a-098a692cf820"
      },
      "execution_count": null,
      "outputs": [
        {
          "output_type": "stream",
          "name": "stdout",
          "text": [
            "Iteration 0: Cost = 161225866.5921\n",
            "Iteration 100: Cost = 38017105.0440\n",
            "Iteration 200: Cost = 21337799.3789\n",
            "Iteration 300: Cost = 19025838.5923\n",
            "Iteration 400: Cost = 18697843.6114\n",
            "Iteration 500: Cost = 18649367.5813\n",
            "Iteration 600: Cost = 18641431.4542\n",
            "Iteration 700: Cost = 18639774.9499\n",
            "Iteration 800: Cost = 18639269.0852\n",
            "Iteration 900: Cost = 18639056.6927\n",
            "Gradient Descent Train MSE: 37277905.92\n",
            "Gradient Descent Test MSE: 33608763.19\n",
            "Gradient Descent Train R²: 0.74\n",
            "Gradient Descent Test R²: 0.78\n"
          ]
        },
        {
          "output_type": "display_data",
          "data": {
            "text/plain": [
              "<Figure size 1000x600 with 1 Axes>"
            ],
            "image/png": "[encoded data removed]"
          },
          "metadata": {}
        }
      ]
    },
    {
      "cell_type": "markdown",
      "source": [
        "**Step 5: Compare with decision trees and random forest**"
      ],
      "metadata": {
        "id": "ISMN2sZnYzrH"
      }
    },
    {
      "cell_type": "code",
      "source": [
        "# Decision Tree\n",
        "dt_model = DecisionTreeRegressor(random_state=42)\n",
        "dt_model.fit(X_train_scaled, y_train)\n",
        "y_train_pred_dt = dt_model.predict(X_train_scaled)\n",
        "y_test_pred_dt = dt_model.predict(X_test_scaled)\n",
        "\n",
        "# Random Forest\n",
        "rf_model = RandomForestRegressor(random_state=42)\n",
        "rf_model.fit(X_train_scaled, y_train)\n",
        "y_train_pred_rf = rf_model.predict(X_train_scaled)\n",
        "y_test_pred_rf = rf_model.predict(X_test_scaled)\n",
        "\n",
        "# Calculate metrics for all models\n",
        "models = {\n",
        "    'Linear Regression': (y_train_pred, y_test_pred),\n",
        "    'Gradient Descent': (y_train_pred_gd, y_test_pred_gd),\n",
        "    'Decision Tree': (y_train_pred_dt, y_test_pred_dt),\n",
        "    'Random Forest': (y_train_pred_rf, y_test_pred_rf)\n",
        "}\n",
        "\n",
        "results = []\n",
        "for name, (train_pred, test_pred) in models.items():\n",
        "    train_mse = mean_squared_error(y_train, train_pred)\n",
        "    test_mse = mean_squared_error(y_test, test_pred)\n",
        "    train_r2 = r2_score(y_train, train_pred)\n",
        "    test_r2 = r2_score(y_test, test_pred)\n",
        "\n",
        "    results.append({\n",
        "        'Model': name,\n",
        "        'Train MSE': train_mse,\n",
        "        'Test MSE': test_mse,\n",
        "        'Train R²': train_r2,\n",
        "        'Test R²': test_r2\n",
        "    })\n",
        "\n",
        "results_df = pd.DataFrame(results)\n",
        "print(results_df)\n",
        "\n",
        "# Create a bar chart to compare MSE across models\n",
        "plt.figure(figsize=(12, 6))\n",
        "models_names = results_df['Model']\n",
        "train_mse = results_df['Train MSE']\n",
        "test_mse = results_df['Test MSE']\n",
        "\n",
        "x = np.arange(len(models_names))\n",
        "width = 0.35\n",
        "\n",
        "plt.bar(x - width/2, train_mse, width, label='Train MSE')\n",
        "plt.bar(x + width/2, test_mse, width, label='Test MSE')\n",
        "\n",
        "plt.xlabel('Models')\n",
        "plt.ylabel('Mean Squared Error')\n",
        "plt.title('Comparison of Models')\n",
        "plt.xticks(x, models_names, rotation=45)\n",
        "plt.legend()\n",
        "plt.tight_layout()\n",
        "plt.show()"
      ],
      "metadata": {
        "colab": {
          "base_uri": "https://localhost:8080/",
          "height": 678
        },
        "id": "WC_Eje72Y6_O",
        "outputId": "74246941-841b-4447-9ffa-adafcf04af17"
      },
      "execution_count": null,
      "outputs": [
        {
          "output_type": "stream",
          "name": "stdout",
          "text": [
            "               Model     Train MSE      Test MSE  Train R²   Test R²\n",
            "0  Linear Regression  3.727768e+07  3.359692e+07  0.741726  0.783593\n",
            "1   Gradient Descent  3.727791e+07  3.360876e+07  0.741724  0.783517\n",
            "2      Decision Tree  2.442396e+05  4.079533e+07  0.998308  0.737226\n",
            "3      Random Forest  3.730191e+06  2.086457e+07  0.974156  0.865606\n"
          ]
        },
        {
          "output_type": "display_data",
          "data": {
            "text/plain": [
              "<Figure size 1200x600 with 1 Axes>"
            ],
            "image/png": "[encoded data removed]"
          },
          "metadata": {}
        }
      ]
    },
    {
      "cell_type": "markdown",
      "source": [
        "**Step 6: Save the best-performing model**"
      ],
      "metadata": {
        "id": "REr4ajPjZDlQ"
      }
    },
    {
      "cell_type": "code",
      "source": [
        "import joblib\n",
        "import pandas as pd\n",
        "\n",
        "# Ensure RMSE values exist before creating results_df\n",
        "if 'rmse_lr' not in locals() or 'rmse_dt' not in locals() or 'rmse_rf' not in locals():\n",
        "    print(\"Error: RMSE values are not defined. Ensure models are evaluated before running this script.\")\n",
        "else:\n",
        "    # Create results_df using RMSE values\n",
        "    results_df = pd.DataFrame({\n",
        "        'Model': ['Linear Regression', 'Decision Tree', 'Random Forest'],\n",
        "        'Test MSE': [rmse_lr, rmse_dt, rmse_rf]\n",
        "    })\n",
        "\n",
        "    # Check if results_df is empty\n",
        "    if results_df.empty:\n",
        "        print(\"Error: results_df is empty. Ensure model evaluations are performed before running this script.\")\n",
        "    else:\n",
        "        # Determine the best model based on Test MSE\n",
        "        best_model_index = results_df['Test MSE'].idxmin()\n",
        "        best_model_name = results_df.loc[best_model_index, 'Model']\n",
        "        print(f\"The best-performing model is: {best_model_name}\")\n",
        "\n",
        "        # Dictionary to map model names to their respective variables\n",
        "        model_mapping = {\n",
        "            'Linear Regression': lr_model,\n",
        "            'Decision Tree': dt_model,\n",
        "            'Random Forest': rf_model\n",
        "        }\n",
        "\n",
        "        # Ensure the best model exists before saving\n",
        "        best_model = model_mapping.get(best_model_name)\n",
        "\n",
        "        if best_model:\n",
        "            joblib.dump(best_model, 'best_model.pkl')\n",
        "            joblib.dump(scaler, 'scaler.pkl')\n",
        "            print(\"Best model saved as 'best_model.pkl'\")\n",
        "        else:\n",
        "            print(\"Error: Best model not found in mapping.\")\n"
      ],
      "metadata": {
        "colab": {
          "base_uri": "https://localhost:8080/"
        },
        "id": "mpNUD2eJZHWw",
        "outputId": "027f10d9-99e3-4fd4-9b1f-544957858bff"
      },
      "execution_count": null,
      "outputs": [
        {
          "output_type": "stream",
          "name": "stdout",
          "text": [
            "Error: RMSE values are not defined. Ensure models are evaluated before running this script.\n"
          ]
        }
      ]
    },
    {
      "cell_type": "code",
      "source": [
        "import os\n",
        "\n",
        "print(os.listdir())  # Check if the files exist in the current directory\n"
      ],
      "metadata": {
        "colab": {
          "base_uri": "https://localhost:8080/"
        },
        "id": "gTykFSAxmHXI",
        "outputId": "b19532ed-6300-4280-81b4-e244b42c3cd3"
      },
      "execution_count": null,
      "outputs": [
        {
          "output_type": "stream",
          "name": "stdout",
          "text": [
            "['.config', 'sample_data']\n"
          ]
        }
      ]
    },
    {
      "cell_type": "code",
      "source": [
        "print(\"Checking model variables...\")\n",
        "\n",
        "if 'lr_model' in locals():\n",
        "    print(\"✅ Linear Regression model exists\")\n",
        "else:\n",
        "    print(\"❌ Linear Regression model is missing\")\n",
        "\n",
        "if 'dt_model' in locals():\n",
        "    print(\"✅ Decision Tree model exists\")\n",
        "else:\n",
        "    print(\"❌ Decision Tree model is missing\")\n",
        "\n",
        "if 'rf_model' in locals():\n",
        "    print(\"✅ Random Forest model exists\")\n",
        "else:\n",
        "    print(\"❌ Random Forest model is missing\")\n",
        "\n",
        "if 'scaler' in locals():\n",
        "    print(\"✅ Scaler exists\")\n",
        "else:\n",
        "    print(\"❌ Scaler is missing\")\n"
      ],
      "metadata": {
        "colab": {
          "base_uri": "https://localhost:8080/"
        },
        "id": "no8gdTtgmb81",
        "outputId": "e4b5bec9-9616-4103-fa85-4783f7bb20ca"
      },
      "execution_count": null,
      "outputs": [
        {
          "output_type": "stream",
          "name": "stdout",
          "text": [
            "Checking model variables...\n",
            "✅ Linear Regression model exists\n",
            "✅ Decision Tree model exists\n",
            "✅ Random Forest model exists\n",
            "✅ Scaler exists\n"
          ]
        }
      ]
    },
    {
      "cell_type": "code",
      "source": [
        "import pandas as pd\n",
        "\n",
        "# Ensure RMSE values exist (Replace with actual calculations if needed)\n",
        "rmse_lr = 5.2  # Example: Replace with actual RMSE from your training\n",
        "rmse_dt = 4.8\n",
        "rmse_rf = 3.9\n",
        "\n",
        "# Create the results DataFrame\n",
        "results_df = pd.DataFrame({\n",
        "    'Model': ['Linear Regression', 'Decision Tree', 'Random Forest'],\n",
        "    'Test MSE': [rmse_lr, rmse_dt, rmse_rf]\n",
        "})\n",
        "\n",
        "print(results_df)\n"
      ],
      "metadata": {
        "colab": {
          "base_uri": "https://localhost:8080/"
        },
        "id": "oOR16z1MmkTg",
        "outputId": "91a3b9f5-5ca5-4273-eeaf-1effe3094d6e"
      },
      "execution_count": null,
      "outputs": [
        {
          "output_type": "stream",
          "name": "stdout",
          "text": [
            "               Model  Test MSE\n",
            "0  Linear Regression       5.2\n",
            "1      Decision Tree       4.8\n",
            "2      Random Forest       3.9\n"
          ]
        }
      ]
    },
    {
      "cell_type": "code",
      "source": [
        "import joblib\n",
        "\n",
        "# Find the best model\n",
        "best_model_index = results_df['Test MSE'].idxmin()\n",
        "best_model_name = results_df.loc[best_model_index, 'Model']\n",
        "\n",
        "print(f\"The best-performing model is: {best_model_name}\")\n",
        "\n",
        "# Map model names to variables\n",
        "model_mapping = {\n",
        "    'Linear Regression': lr_model,\n",
        "    'Decision Tree': dt_model,\n",
        "    'Random Forest': rf_model\n",
        "}\n",
        "\n",
        "# Save the best model\n",
        "best_model = model_mapping.get(best_model_name)\n",
        "\n",
        "if best_model:\n",
        "    joblib.dump(best_model, 'best_model.pkl')\n",
        "    joblib.dump(scaler, 'scaler.pkl')\n",
        "    print(\"✅ Model and scaler saved successfully\")\n",
        "else:\n",
        "    print(\"❌ Error: Best model not found\")\n"
      ],
      "metadata": {
        "colab": {
          "base_uri": "https://localhost:8080/"
        },
        "id": "1z5EqdVSmqUM",
        "outputId": "ecfa3d47-607e-4404-81bf-c73f1fd8aaed"
      },
      "execution_count": null,
      "outputs": [
        {
          "output_type": "stream",
          "name": "stdout",
          "text": [
            "The best-performing model is: Random Forest\n",
            "✅ Model and scaler saved successfully\n"
          ]
        }
      ]
    },
    {
      "cell_type": "code",
      "source": [
        "import os\n",
        "print(os.listdir())  # Should show 'best_model.pkl' and 'scaler.pkl'\n"
      ],
      "metadata": {
        "colab": {
          "base_uri": "https://localhost:8080/"
        },
        "id": "25XggJeVmvCm",
        "outputId": "7c240f81-5090-4c9d-cd3c-1f362409efaa"
      },
      "execution_count": null,
      "outputs": [
        {
          "output_type": "stream",
          "name": "stdout",
          "text": [
            "['.config', 'best_model.pkl', 'scaler.pkl', 'sample_data']\n"
          ]
        }
      ]
    },
    {
      "cell_type": "code",
      "source": [
        "from google.colab import files\n",
        "\n",
        "files.download('best_model.pkl')\n",
        "files.download('scaler.pkl')\n"
      ],
      "metadata": {
        "colab": {
          "base_uri": "https://localhost:8080/",
          "height": 17
        },
        "id": "JoQDGnDgZmb1",
        "outputId": "fece4016-1f3e-42bb-c216-f83a349eae11"
      },
      "execution_count": null,
      "outputs": [
        {
          "output_type": "display_data",
          "data": {
            "text/plain": [
              "<IPython.core.display.Javascript object>"
            ],
            "application/javascript": [
              "\n",
              "    async function download(id, filename, size) {\n",
              "      if (!google.colab.kernel.accessAllowed) {\n",
              "        return;\n",
              "      }\n",
              "      const div = document.createElement('div');\n",
              "      const label = document.createElement('label');\n",
              "      label.textContent = `Downloading \"${filename}\": `;\n",
              "      div.appendChild(label);\n",
              "      const progress = document.createElement('progress');\n",
              "      progress.max = size;\n",
              "      div.appendChild(progress);\n",
              "      document.body.appendChild(div);\n",
              "\n",
              "      const buffers = [];\n",
              "      let downloaded = 0;\n",
              "\n",
              "      const channel = await google.colab.kernel.comms.open(id);\n",
              "      // Send a message to notify the kernel that we're ready.\n",
              "      channel.send({})\n",
              "\n",
              "      for await (const message of channel.messages) {\n",
              "        // Send a message to notify the kernel that we're ready.\n",
              "        channel.send({})\n",
              "        if (message.buffers) {\n",
              "          for (const buffer of message.buffers) {\n",
              "            buffers.push(buffer);\n",
              "            downloaded += buffer.byteLength;\n",
              "            progress.value = downloaded;\n",
              "          }\n",
              "        }\n",
              "      }\n",
              "      const blob = new Blob(buffers, {type: 'application/binary'});\n",
              "      const a = document.createElement('a');\n",
              "      a.href = window.URL.createObjectURL(blob);\n",
              "      a.download = filename;\n",
              "      div.appendChild(a);\n",
              "      a.click();\n",
              "      div.remove();\n",
              "    }\n",
              "  "
            ]
          },
          "metadata": {}
        },
        {
          "output_type": "display_data",
          "data": {
            "text/plain": [
              "<IPython.core.display.Javascript object>"
            ],
            "application/javascript": [
              "download(\"download_69312561-32bb-49d7-9a2e-b778a6667894\", \"best_model.pkl\", 9730225)"
            ]
          },
          "metadata": {}
        },
        {
          "output_type": "display_data",
          "data": {
            "text/plain": [
              "<IPython.core.display.Javascript object>"
            ],
            "application/javascript": [
              "\n",
              "    async function download(id, filename, size) {\n",
              "      if (!google.colab.kernel.accessAllowed) {\n",
              "        return;\n",
              "      }\n",
              "      const div = document.createElement('div');\n",
              "      const label = document.createElement('label');\n",
              "      label.textContent = `Downloading \"${filename}\": `;\n",
              "      div.appendChild(label);\n",
              "      const progress = document.createElement('progress');\n",
              "      progress.max = size;\n",
              "      div.appendChild(progress);\n",
              "      document.body.appendChild(div);\n",
              "\n",
              "      const buffers = [];\n",
              "      let downloaded = 0;\n",
              "\n",
              "      const channel = await google.colab.kernel.comms.open(id);\n",
              "      // Send a message to notify the kernel that we're ready.\n",
              "      channel.send({})\n",
              "\n",
              "      for await (const message of channel.messages) {\n",
              "        // Send a message to notify the kernel that we're ready.\n",
              "        channel.send({})\n",
              "        if (message.buffers) {\n",
              "          for (const buffer of message.buffers) {\n",
              "            buffers.push(buffer);\n",
              "            downloaded += buffer.byteLength;\n",
              "            progress.value = downloaded;\n",
              "          }\n",
              "        }\n",
              "      }\n",
              "      const blob = new Blob(buffers, {type: 'application/binary'});\n",
              "      const a = document.createElement('a');\n",
              "      a.href = window.URL.createObjectURL(blob);\n",
              "      a.download = filename;\n",
              "      div.appendChild(a);\n",
              "      a.click();\n",
              "      div.remove();\n",
              "    }\n",
              "  "
            ]
          },
          "metadata": {}
        },
        {
          "output_type": "display_data",
          "data": {
            "text/plain": [
              "<IPython.core.display.Javascript object>"
            ],
            "application/javascript": [
              "download(\"download_365f8af9-191f-4dac-a65a-50b678228c9b\", \"scaler.pkl\", 1239)"
            ]
          },
          "metadata": {}
        }
      ]
    },
    {
      "cell_type": "markdown",
      "source": [
        "**Step 7: Create a prediction function**\n"
      ],
      "metadata": {
        "id": "96wiyxIYZysO"
      }
    },
    {
      "cell_type": "code",
      "source": [
        "# Create a function to make predictions\n",
        "def predict_insurance_cost(age, bmi, children, sex, smoker, region):\n",
        "    # Load the model and scaler\n",
        "    model = joblib.load('best_model.pkl')\n",
        "    scaler = joblib.load('scaler.pkl')\n",
        "\n",
        "    # Create a DataFrame with the input features\n",
        "    data = {\n",
        "        'age': [age],\n",
        "        'bmi': [bmi],\n",
        "        'children': [children]\n",
        "    }\n",
        "\n",
        "    # Convert categorical variables to dummy variables\n",
        "    if sex == 'male':\n",
        "        data['sex_male'] = [1]\n",
        "    else:\n",
        "        data['sex_male'] = [0]\n",
        "\n",
        "    if smoker == 'yes':\n",
        "        data['smoker_yes'] = [1]\n",
        "    else:\n",
        "        data['smoker_yes'] = [0]\n",
        "\n",
        "    # Region encoding\n",
        "    data['region_northwest'] = [1 if region == 'northwest' else 0]\n",
        "    data['region_southeast'] = [1 if region == 'southeast' else 0]\n",
        "    data['region_southwest'] = [1 if region == 'southwest' else 0]\n",
        "\n",
        "    # Create DataFrame\n",
        "    input_df = pd.DataFrame(data)\n",
        "\n",
        "    # Check if the columns match the training data\n",
        "    expected_columns = ['age', 'bmi', 'children', 'sex_male', 'smoker_yes',\n",
        "                        'region_northwest', 'region_southeast', 'region_southwest']\n",
        "\n",
        "    # Ensure all expected columns are present\n",
        "    for col in expected_columns:\n",
        "        if col not in input_df.columns:\n",
        "            input_df[col] = 0\n",
        "\n",
        "    # Scale the input features\n",
        "    input_scaled = scaler.transform(input_df)\n",
        "\n",
        "    # Make prediction\n",
        "    prediction = model.predict(input_scaled)[0]\n",
        "\n",
        "    return prediction\n",
        "\n",
        "# Test the prediction function\n",
        "test_prediction = predict_insurance_cost(\n",
        "    age=30,\n",
        "    bmi=25,\n",
        "    children=2,\n",
        "    sex='male',\n",
        "    smoker='no',\n",
        "    region='northwest'\n",
        ")\n",
        "print(f\"Predicted insurance cost: ${test_prediction:.2f}\")"
      ],
      "metadata": {
        "colab": {
          "base_uri": "https://localhost:8080/"
        },
        "id": "XCqk9VzjZ520",
        "outputId": "09995552-a580-4047-9f4b-fc2a91e4b693"
      },
      "execution_count": null,
      "outputs": [
        {
          "output_type": "stream",
          "name": "stdout",
          "text": [
            "Predicted insurance cost: $9350.24\n"
          ]
        }
      ]
    },
    {
      "cell_type": "code",
      "source": [
        "import pickle\n",
        "from sklearn.preprocessing import StandardScaler\n",
        "\n",
        "# Train your model here (example: LinearRegression)\n",
        "model = ...  # Replace with your trained model\n",
        "\n",
        "# Save the model\n",
        "with open(\"best_model.pkl\", \"wb\") as f:\n",
        "    pickle.dump(model, f)\n",
        "\n",
        "# Create and save the scaler\n",
        "scaler = StandardScaler()\n",
        "with open(\"scaler.pkl\", \"wb\") as f:\n",
        "    pickle.dump(scaler, f)\n"
      ],
      "metadata": {
        "id": "uwQFLxWOosGY"
      },
      "execution_count": null,
      "outputs": []
    },
    {
      "cell_type": "code",
      "source": [
        "from google.colab import files\n",
        "\n",
        "files.download('best_model.pkl')\n",
        "files.download('scaler.pkl')\n"
      ],
      "metadata": {
        "colab": {
          "base_uri": "https://localhost:8080/",
          "height": 17
        },
        "id": "dmq-7Hepo0XX",
        "outputId": "65b9b853-ce37-4e3d-8f93-2f338a251689"
      },
      "execution_count": null,
      "outputs": [
        {
          "output_type": "display_data",
          "data": {
            "text/plain": [
              "<IPython.core.display.Javascript object>"
            ],
            "application/javascript": [
              "\n",
              "    async function download(id, filename, size) {\n",
              "      if (!google.colab.kernel.accessAllowed) {\n",
              "        return;\n",
              "      }\n",
              "      const div = document.createElement('div');\n",
              "      const label = document.createElement('label');\n",
              "      label.textContent = `Downloading \"${filename}\": `;\n",
              "      div.appendChild(label);\n",
              "      const progress = document.createElement('progress');\n",
              "      progress.max = size;\n",
              "      div.appendChild(progress);\n",
              "      document.body.appendChild(div);\n",
              "\n",
              "      const buffers = [];\n",
              "      let downloaded = 0;\n",
              "\n",
              "      const channel = await google.colab.kernel.comms.open(id);\n",
              "      // Send a message to notify the kernel that we're ready.\n",
              "      channel.send({})\n",
              "\n",
              "      for await (const message of channel.messages) {\n",
              "        // Send a message to notify the kernel that we're ready.\n",
              "        channel.send({})\n",
              "        if (message.buffers) {\n",
              "          for (const buffer of message.buffers) {\n",
              "            buffers.push(buffer);\n",
              "            downloaded += buffer.byteLength;\n",
              "            progress.value = downloaded;\n",
              "          }\n",
              "        }\n",
              "      }\n",
              "      const blob = new Blob(buffers, {type: 'application/binary'});\n",
              "      const a = document.createElement('a');\n",
              "      a.href = window.URL.createObjectURL(blob);\n",
              "      a.download = filename;\n",
              "      div.appendChild(a);\n",
              "      a.click();\n",
              "      div.remove();\n",
              "    }\n",
              "  "
            ]
          },
          "metadata": {}
        },
        {
          "output_type": "display_data",
          "data": {
            "text/plain": [
              "<IPython.core.display.Javascript object>"
            ],
            "application/javascript": [
              "download(\"download_59e3344f-f36a-49a1-a82b-dd3c0e7382eb\", \"best_model.pkl\", 36)"
            ]
          },
          "metadata": {}
        },
        {
          "output_type": "display_data",
          "data": {
            "text/plain": [
              "<IPython.core.display.Javascript object>"
            ],
            "application/javascript": [
              "\n",
              "    async function download(id, filename, size) {\n",
              "      if (!google.colab.kernel.accessAllowed) {\n",
              "        return;\n",
              "      }\n",
              "      const div = document.createElement('div');\n",
              "      const label = document.createElement('label');\n",
              "      label.textContent = `Downloading \"${filename}\": `;\n",
              "      div.appendChild(label);\n",
              "      const progress = document.createElement('progress');\n",
              "      progress.max = size;\n",
              "      div.appendChild(progress);\n",
              "      document.body.appendChild(div);\n",
              "\n",
              "      const buffers = [];\n",
              "      let downloaded = 0;\n",
              "\n",
              "      const channel = await google.colab.kernel.comms.open(id);\n",
              "      // Send a message to notify the kernel that we're ready.\n",
              "      channel.send({})\n",
              "\n",
              "      for await (const message of channel.messages) {\n",
              "        // Send a message to notify the kernel that we're ready.\n",
              "        channel.send({})\n",
              "        if (message.buffers) {\n",
              "          for (const buffer of message.buffers) {\n",
              "            buffers.push(buffer);\n",
              "            downloaded += buffer.byteLength;\n",
              "            progress.value = downloaded;\n",
              "          }\n",
              "        }\n",
              "      }\n",
              "      const blob = new Blob(buffers, {type: 'application/binary'});\n",
              "      const a = document.createElement('a');\n",
              "      a.href = window.URL.createObjectURL(blob);\n",
              "      a.download = filename;\n",
              "      div.appendChild(a);\n",
              "      a.click();\n",
              "      div.remove();\n",
              "    }\n",
              "  "
            ]
          },
          "metadata": {}
        },
        {
          "output_type": "display_data",
          "data": {
            "text/plain": [
              "<IPython.core.display.Javascript object>"
            ],
            "application/javascript": [
              "download(\"download_a26c7ad6-e1c5-4836-a448-963a59efa4ae\", \"scaler.pkl\", 129)"
            ]
          },
          "metadata": {}
        }
      ]
    },
    {
      "cell_type": "code",
      "source": [
        "import pickle\n",
        "import numpy as np\n",
        "from sklearn.linear_model import LinearRegression\n",
        "from sklearn.preprocessing import StandardScaler\n",
        "\n",
        "# Example training data (Replace with your actual dataset)\n",
        "X_train = np.array([\n",
        "    [25, 1, 30.5, 2, 1, 0],  # age, sex, bmi, children, smoker, region\n",
        "    [40, 0, 25.3, 0, 0, 1],\n",
        "    [35, 1, 28.9, 1, 0, 2],\n",
        "    [50, 0, 33.2, 3, 1, 3]\n",
        "])\n",
        "y_train = np.array([3000, 2000, 2500, 5000])  # Insurance costs\n",
        "\n",
        "# Train model\n",
        "scaler = StandardScaler()\n",
        "X_train_scaled = scaler.fit_transform(X_train)\n",
        "model = LinearRegression()\n",
        "model.fit(X_train_scaled, y_train)\n",
        "\n",
        "# Save model & scaler\n",
        "with open(\"C:\\\\Users\\\\Jolie\\\\integration\\\\linear_regression\\\\best_model.pkl\", \"wb\") as f:\n",
        "    pickle.dump(model, f)\n",
        "\n",
        "with open(\"C:\\\\Users\\\\Jolie\\\\integration\\\\linear_regression\\\\scaler.pkl\", \"wb\") as f:\n",
        "    pickle.dump(scaler, f)\n",
        "\n",
        "print(\"✅ Model and scaler saved successfully!\")\n"
      ],
      "metadata": {
        "colab": {
          "base_uri": "https://localhost:8080/"
        },
        "id": "kI06ZT1mqh8O",
        "outputId": "fffedc9a-0821-4ac3-8e90-def2dd382f49"
      },
      "execution_count": null,
      "outputs": [
        {
          "output_type": "stream",
          "name": "stdout",
          "text": [
            "✅ Model and scaler saved successfully!\n"
          ]
        }
      ]
    },
    {
      "cell_type": "code",
      "source": [
        "from google.colab import files\n",
        "\n",
        "files.download('best_model.pkl')\n",
        "files.download('scaler.pkl')\n"
      ],
      "metadata": {
        "colab": {
          "base_uri": "https://localhost:8080/",
          "height": 17
        },
        "id": "utwg8k2zqo3F",
        "outputId": "67aad42f-9aac-4bfb-8a75-b5fed17e2601"
      },
      "execution_count": null,
      "outputs": [
        {
          "output_type": "display_data",
          "data": {
            "text/plain": [
              "<IPython.core.display.Javascript object>"
            ],
            "application/javascript": [
              "\n",
              "    async function download(id, filename, size) {\n",
              "      if (!google.colab.kernel.accessAllowed) {\n",
              "        return;\n",
              "      }\n",
              "      const div = document.createElement('div');\n",
              "      const label = document.createElement('label');\n",
              "      label.textContent = `Downloading \"${filename}\": `;\n",
              "      div.appendChild(label);\n",
              "      const progress = document.createElement('progress');\n",
              "      progress.max = size;\n",
              "      div.appendChild(progress);\n",
              "      document.body.appendChild(div);\n",
              "\n",
              "      const buffers = [];\n",
              "      let downloaded = 0;\n",
              "\n",
              "      const channel = await google.colab.kernel.comms.open(id);\n",
              "      // Send a message to notify the kernel that we're ready.\n",
              "      channel.send({})\n",
              "\n",
              "      for await (const message of channel.messages) {\n",
              "        // Send a message to notify the kernel that we're ready.\n",
              "        channel.send({})\n",
              "        if (message.buffers) {\n",
              "          for (const buffer of message.buffers) {\n",
              "            buffers.push(buffer);\n",
              "            downloaded += buffer.byteLength;\n",
              "            progress.value = downloaded;\n",
              "          }\n",
              "        }\n",
              "      }\n",
              "      const blob = new Blob(buffers, {type: 'application/binary'});\n",
              "      const a = document.createElement('a');\n",
              "      a.href = window.URL.createObjectURL(blob);\n",
              "      a.download = filename;\n",
              "      div.appendChild(a);\n",
              "      a.click();\n",
              "      div.remove();\n",
              "    }\n",
              "  "
            ]
          },
          "metadata": {}
        },
        {
          "output_type": "display_data",
          "data": {
            "text/plain": [
              "<IPython.core.display.Javascript object>"
            ],
            "application/javascript": [
              "download(\"download_60ba8724-f1e2-4a8b-b940-d5e6952db2e4\", \"best_model.pkl\", 36)"
            ]
          },
          "metadata": {}
        },
        {
          "output_type": "display_data",
          "data": {
            "text/plain": [
              "<IPython.core.display.Javascript object>"
            ],
            "application/javascript": [
              "\n",
              "    async function download(id, filename, size) {\n",
              "      if (!google.colab.kernel.accessAllowed) {\n",
              "        return;\n",
              "      }\n",
              "      const div = document.createElement('div');\n",
              "      const label = document.createElement('label');\n",
              "      label.textContent = `Downloading \"${filename}\": `;\n",
              "      div.appendChild(label);\n",
              "      const progress = document.createElement('progress');\n",
              "      progress.max = size;\n",
              "      div.appendChild(progress);\n",
              "      document.body.appendChild(div);\n",
              "\n",
              "      const buffers = [];\n",
              "      let downloaded = 0;\n",
              "\n",
              "      const channel = await google.colab.kernel.comms.open(id);\n",
              "      // Send a message to notify the kernel that we're ready.\n",
              "      channel.send({})\n",
              "\n",
              "      for await (const message of channel.messages) {\n",
              "        // Send a message to notify the kernel that we're ready.\n",
              "        channel.send({})\n",
              "        if (message.buffers) {\n",
              "          for (const buffer of message.buffers) {\n",
              "            buffers.push(buffer);\n",
              "            downloaded += buffer.byteLength;\n",
              "            progress.value = downloaded;\n",
              "          }\n",
              "        }\n",
              "      }\n",
              "      const blob = new Blob(buffers, {type: 'application/binary'});\n",
              "      const a = document.createElement('a');\n",
              "      a.href = window.URL.createObjectURL(blob);\n",
              "      a.download = filename;\n",
              "      div.appendChild(a);\n",
              "      a.click();\n",
              "      div.remove();\n",
              "    }\n",
              "  "
            ]
          },
          "metadata": {}
        },
        {
          "output_type": "display_data",
          "data": {
            "text/plain": [
              "<IPython.core.display.Javascript object>"
            ],
            "application/javascript": [
              "download(\"download_91ee01a6-6960-4020-b6ff-f00cced4b77d\", \"scaler.pkl\", 129)"
            ]
          },
          "metadata": {}
        }
      ]
    }
  ]
}